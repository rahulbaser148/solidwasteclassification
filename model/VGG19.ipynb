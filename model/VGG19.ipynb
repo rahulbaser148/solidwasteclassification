{
 "cells": [
  {
   "cell_type": "code",
   "execution_count": 1,
   "id": "e442b1a7-e21b-404d-8abe-de050eca920e",
   "metadata": {},
   "outputs": [],
   "source": [
    "import matplotlib.pyplot as plt\n",
    "import numpy as np\n",
    "import os\n",
    "import PIL\n",
    "import tensorflow as tf\n",
    "from tensorflow import keras\n",
    "from tensorflow.keras import layers\n",
    "from tensorflow.python.keras.layers import Dense, Flatten\n",
    "from tensorflow.keras.models import Model\n",
    "from tensorflow.keras.layers import Flatten, Dense\n",
    "from tensorflow.keras.models import Sequential\n",
    "from tensorflow.keras.optimizers import Adam\n",
    "import pathlib"
   ]
  },
  {
   "cell_type": "code",
   "execution_count": 2,
   "id": "577845a0-a964-4a97-8b95-7e96b30724ab",
   "metadata": {},
   "outputs": [],
   "source": [
    "dataset_url = \"WasteImagesDataset\"\n",
    "data_dir = pathlib.Path(dataset_url)"
   ]
  },
  {
   "cell_type": "code",
   "execution_count": 3,
   "id": "5954f0d1-c5ce-4e7f-ab51-405ca074accc",
   "metadata": {},
   "outputs": [
    {
     "name": "stdout",
     "output_type": "stream",
     "text": [
      "WasteImagesDataset\n"
     ]
    }
   ],
   "source": [
    "print(data_dir)"
   ]
  },
  {
   "cell_type": "code",
   "execution_count": 4,
   "id": "e47494ec-3a47-4eff-8fa1-47307352018b",
   "metadata": {},
   "outputs": [
    {
     "name": "stdout",
     "output_type": "stream",
     "text": [
      "WasteImagesDataset\\Aluminium\\alum (115).jpg\n"
     ]
    },
    {
     "data": {
      "image/jpeg": "[encoded data removed]",
      "image/png": "[encoded data removed]",
      "text/plain": [
       "<PIL.JpegImagePlugin.JpegImageFile image mode=RGB size=100x100>"
      ]
     },
     "execution_count": 4,
     "metadata": {},
     "output_type": "execute_result"
    }
   ],
   "source": [
    "electronic = list(data_dir.glob('Aluminium/*'))\n",
    "print(electronic[18])\n",
    "PIL.Image.open(str(electronic[18]))"
   ]
  },
  {
   "cell_type": "code",
   "execution_count": 5,
   "id": "d6eed337-3ede-4281-bd6c-92b642019a96",
   "metadata": {},
   "outputs": [
    {
     "name": "stdout",
     "output_type": "stream",
     "text": [
      "Found 5078 files belonging to 9 classes.\n",
      "Using 4063 files for training.\n"
     ]
    }
   ],
   "source": [
    "img_height, img_width = 224, 224\n",
    "batch_size = 32\n",
    "train_ds = tf.keras.preprocessing.image_dataset_from_directory(\n",
    "    data_dir,\n",
    "    validation_split = 0.2,\n",
    "    subset = \"training\",\n",
    "    seed = 123,\n",
    "    label_mode = 'categorical',\n",
    "    image_size = (img_height, img_width),\n",
    "    batch_size = batch_size\n",
    ")"
   ]
  },
  {
   "cell_type": "code",
   "execution_count": 6,
   "id": "a142f911-8e2e-4a0d-9bd5-bc0f27986be6",
   "metadata": {},
   "outputs": [
    {
     "name": "stdout",
     "output_type": "stream",
     "text": [
      "Found 5078 files belonging to 9 classes.\n",
      "Using 1015 files for validation.\n"
     ]
    }
   ],
   "source": [
    "val_ds = tf.keras.preprocessing.image_dataset_from_directory(\n",
    "    data_dir,\n",
    "    validation_split = 0.2,\n",
    "    subset = \"validation\",\n",
    "    seed = 123,\n",
    "    label_mode = 'categorical',\n",
    "    image_size = (img_height, img_width),\n",
    "    batch_size = batch_size\n",
    ")"
   ]
  },
  {
   "cell_type": "code",
   "execution_count": 7,
   "id": "7cd69874-cc3f-4798-a7ee-20755814a624",
   "metadata": {},
   "outputs": [
    {
     "name": "stdout",
     "output_type": "stream",
     "text": [
      "['Aluminium', 'Carton', 'Glass', 'Organic Waste', 'Other Plastics', 'Paper and Cardboard', 'Plastic', 'Textiles', 'Wood']\n"
     ]
    }
   ],
   "source": [
    "class_names = train_ds.class_names\n",
    "print(class_names)"
   ]
  },
  {
   "cell_type": "code",
   "execution_count": 8,
   "id": "a218fe78-efbd-438a-80a2-f9e9d2f3a3e8",
   "metadata": {},
   "outputs": [],
   "source": [
    "vgg_model = Sequential()\n",
    "\n",
    "pretrained_model = tf.keras.applications.VGG19(\n",
    "    include_top = False,\n",
    "    input_shape = (224, 224, 3),\n",
    "    pooling = 'avg',\n",
    "    classes = 9,\n",
    "    weights = 'imagenet'\n",
    ")\n",
    "\n",
    "for layer in pretrained_model.layers:\n",
    "    layer.trainable = False\n",
    "\n",
    "vgg_model.add(pretrained_model)\n",
    "vgg_model.add(Flatten())\n",
    "vgg_model.add(Dense(512, activation = 'relu'))\n",
    "vgg_model.add(Dense(9, activation = 'softmax'))"
   ]
  },
  {
   "cell_type": "code",
   "execution_count": 9,
   "id": "68ab650a-bad7-45e5-b2f1-c74f7ec5e6fb",
   "metadata": {},
   "outputs": [
    {
     "name": "stdout",
     "output_type": "stream",
     "text": [
      "Model: \"sequential\"\n",
      "_________________________________________________________________\n",
      " Layer (type)                Output Shape              Param #   \n",
      "=================================================================\n",
      " vgg19 (Functional)          (None, 512)               20024384  \n",
      "                                                                 \n",
      " flatten (Flatten)           (None, 512)               0         \n",
      "                                                                 \n",
      " dense (Dense)               (None, 512)               262656    \n",
      "                                                                 \n",
      " dense_1 (Dense)             (None, 9)                 4617      \n",
      "                                                                 \n",
      "=================================================================\n",
      "Total params: 20,291,657\n",
      "Trainable params: 267,273\n",
      "Non-trainable params: 20,024,384\n",
      "_________________________________________________________________\n"
     ]
    }
   ],
   "source": [
    "vgg_model.summary()"
   ]
  },
  {
   "cell_type": "code",
   "execution_count": 10,
   "id": "daba741b-8a1b-4eeb-baac-5d59c7b5044c",
   "metadata": {},
   "outputs": [],
   "source": [
    "vgg_model.compile(\n",
    "    optimizer=Adam(learning_rate=0.001),\n",
    "    loss='categorical_crossentropy',\n",
    "    metrics=['accuracy']\n",
    ")"
   ]
  },
  {
   "cell_type": "code",
   "execution_count": 11,
   "id": "7a069b01-7e5b-4e48-a3bd-b7bc0b935e09",
   "metadata": {},
   "outputs": [
    {
     "name": "stdout",
     "output_type": "stream",
     "text": [
      "Epoch 1/10\n",
      "127/127 [==============================] - 74s 489ms/step - loss: 1.1733 - accuracy: 0.7366 - val_loss: 0.7073 - val_accuracy: 0.7990\n",
      "Epoch 2/10\n",
      "127/127 [==============================] - 47s 366ms/step - loss: 0.3273 - accuracy: 0.8912 - val_loss: 0.6949 - val_accuracy: 0.8207\n",
      "Epoch 3/10\n",
      "127/127 [==============================] - 47s 365ms/step - loss: 0.1575 - accuracy: 0.9419 - val_loss: 0.6790 - val_accuracy: 0.8384\n",
      "Epoch 4/10\n",
      "127/127 [==============================] - 47s 366ms/step - loss: 0.0823 - accuracy: 0.9732 - val_loss: 0.6769 - val_accuracy: 0.8443\n",
      "Epoch 5/10\n",
      "127/127 [==============================] - 47s 365ms/step - loss: 0.0457 - accuracy: 0.9889 - val_loss: 0.6209 - val_accuracy: 0.8640\n",
      "Epoch 6/10\n",
      "127/127 [==============================] - 47s 365ms/step - loss: 0.0319 - accuracy: 0.9946 - val_loss: 0.6345 - val_accuracy: 0.8591\n",
      "Epoch 7/10\n",
      "127/127 [==============================] - 47s 366ms/step - loss: 0.0174 - accuracy: 0.9975 - val_loss: 0.6434 - val_accuracy: 0.8591\n",
      "Epoch 8/10\n",
      "127/127 [==============================] - 48s 373ms/step - loss: 0.0131 - accuracy: 0.9988 - val_loss: 0.6577 - val_accuracy: 0.8749\n",
      "Epoch 9/10\n",
      "127/127 [==============================] - 47s 368ms/step - loss: 0.0096 - accuracy: 0.9995 - val_loss: 0.6558 - val_accuracy: 0.8670\n",
      "Epoch 10/10\n",
      "127/127 [==============================] - 47s 366ms/step - loss: 0.0087 - accuracy: 0.9995 - val_loss: 0.6842 - val_accuracy: 0.8729\n"
     ]
    }
   ],
   "source": [
    "epochs = 10\n",
    "history = vgg_model.fit(\n",
    "    train_ds,\n",
    "    validation_data = val_ds,\n",
    "    epochs = epochs\n",
    ")"
   ]
  },
  {
   "cell_type": "code",
   "execution_count": 12,
   "id": "4b85bb72-72b1-45c6-aa8e-b18d82222f70",
   "metadata": {},
   "outputs": [],
   "source": [
    "import h5py\n",
    "\n",
    "vgg_model.save('vgg19_history_10.h5')\n",
    "\n",
    "with h5py.File('vgg19_history_10.h5', 'a') as hf:\n",
    "    for key in history.history.keys():\n",
    "        hf.create_dataset(key, data=history.history[key])"
   ]
  }
 ],
 "metadata": {
  "kernelspec": {
   "display_name": "Python 3 (ipykernel)",
   "language": "python",
   "name": "python3"
  },
  "language_info": {
   "codemirror_mode": {
    "name": "ipython",
    "version": 3
   },
   "file_extension": ".py",
   "mimetype": "text/x-python",
   "name": "python",
   "nbconvert_exporter": "python",
   "pygments_lexer": "ipython3",
   "version": "3.10.13"
  }
 },
 "nbformat": 4,
 "nbformat_minor": 5
}
